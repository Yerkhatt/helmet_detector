{
  "cells": [
    {
      "cell_type": "code",
      "execution_count": null,
      "metadata": {
        "id": "T82OBHxH0MMp"
      },
      "outputs": [],
      "source": [
        "!git clone https://github.com/Yerkhatt/helmet_detector\n",
        "\n",
        "%pip install -qr helmet_detector/helmet-detector-yolov5/requirements.txt\n",
        "\n",
        "import torch"
      ]
    },
    {
      "cell_type": "code",
      "execution_count": null,
      "metadata": {
        "id": "-ys6NB3m0pX3"
      },
      "outputs": [],
      "source": [
        "!python helmet_detector/helmet-detector-yolov5/detect.py --weights /content/helmet_detector/models/model.pt --img 640 --conf 0.6 --source \\\n",
        "   # path"
      ]
    }
  ],
  "metadata": {
    "accelerator": "GPU",
    "colab": {
      "private_outputs": true,
      "provenance": []
    },
    "gpuClass": "standard",
    "kernelspec": {
      "display_name": "Python 3",
      "name": "python3"
    },
    "language_info": {
      "name": "python"
    }
  },
  "nbformat": 4,
  "nbformat_minor": 0
}
